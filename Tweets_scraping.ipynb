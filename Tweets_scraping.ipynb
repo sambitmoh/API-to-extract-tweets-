{
  "nbformat": 4,
  "nbformat_minor": 0,
  "metadata": {
    "colab": {
      "name": "Tweets_scraping.ipynb",
      "provenance": [],
      "collapsed_sections": []
    },
    "kernelspec": {
      "name": "python3",
      "display_name": "Python 3"
    }
  },
  "cells": [
    {
      "cell_type": "code",
      "metadata": {
        "id": "vAhA1SquWLnt"
      },
      "source": [
        "import json\r\n",
        "import csv\r\n",
        "import tweepy\r\n",
        "import re"
      ],
      "execution_count": null,
      "outputs": []
    },
    {
      "cell_type": "code",
      "metadata": {
        "id": "lJnG_kWzWQZp"
      },
      "source": [
        "def search_for_hashtags(consumer_key, consumer_secret, access_token, access_token_secret, hashtag_phrase):\r\n",
        "    \r\n",
        "    #create authentication for accessing Twitter\r\n",
        "    auth = tweepy.OAuthHandler(consumer_key, consumer_secret)\r\n",
        "    auth.set_access_token(access_token, access_token_secret)\r\n",
        "\r\n",
        "    #initialize Tweepy API\r\n",
        "    api = tweepy.API(auth)\r\n",
        "    \r\n",
        "    #get the name of the spreadsheet we will write to\r\n",
        "    fname = '_'.join(re.findall(r\"#(\\w+)\", hashtag_phrase))\r\n",
        "\r\n",
        "    #open the spreadsheet we will write to\r\n",
        "    with open('%s.csv' % (fname), 'wb') as file:\r\n",
        "\r\n",
        "        w = csv.writer(file)\r\n",
        "\r\n",
        "        #write header row to spreadsheet\r\n",
        "        w.writerow(['timestamp', 'tweet_text', 'username', 'all_hashtags', 'followers_count'])\r\n",
        "\r\n",
        "        #for each tweet matching our hashtags, write relevant info to the spreadsheet\r\n",
        "        for tweet in tweepy.Cursor(api.search, q=hashtag_phrase+' -filter:retweets', \\\r\n",
        "                                   lang=\"en\", tweet_mode='extended').items(100):\r\n",
        "            w.writerow([tweet.created_at, tweet.full_text.replace('\\n',' ').encode('utf-8'), tweet.user.screen_name.encode('utf-8'), [e['text'] for e in tweet._json['entities']['hashtags']], tweet.user.followers_count])"
      ],
      "execution_count": null,
      "outputs": []
    },
    {
      "cell_type": "code",
      "metadata": {
        "id": "ztzSL4bAWUOm"
      },
      "source": [
        "consumer_key = raw_input('Consumer Key ')\r\n",
        "consumer_secret = raw_input('Consumer Secret ')\r\n",
        "access_token = raw_input('Access Token ')\r\n",
        "access_token_secret = raw_input('Access Token Secret ')\r\n",
        "    \r\n",
        "hashtag_phrase = raw_input('Hashtag Phrase ')\r\n",
        "\r\n",
        "if __name__ == '__main__':\r\n",
        "    search_for_hashtags(consumer_key, consumer_secret, access_token, access_token_secret, hashtag_phrase)"
      ],
      "execution_count": null,
      "outputs": []
    }
  ]
}